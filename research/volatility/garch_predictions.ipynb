{
 "cells": [
  {
   "cell_type": "code",
   "execution_count": 2,
   "metadata": {},
   "outputs": [],
   "source": [
    "import pandas as pd \n",
    "import matplotlib.pyplot as plt\n",
    "import numpy as np \n",
    "import sys \n",
    "from arch import arch_model\n",
    "sys.path.append('../../')\n",
    "\n",
    "import helpers.data_helpers as data_helpers"
   ]
  },
  {
   "cell_type": "code",
   "execution_count": 3,
   "metadata": {},
   "outputs": [],
   "source": [
    "df = pd.read_csv('../../data/BTCUSDT_720mill.csv')"
   ]
  },
  {
   "cell_type": "code",
   "execution_count": 4,
   "metadata": {},
   "outputs": [],
   "source": []
  },
  {
   "cell_type": "code",
   "execution_count": 9,
   "metadata": {},
   "outputs": [
    {
     "name": "stdout",
     "output_type": "stream",
     "text": [
      "Iteration:      1,   Func. Count:      6,   Neg. LLF: 321395135.6094427\n",
      "Iteration:      2,   Func. Count:     16,   Neg. LLF: 9201564.312707517\n",
      "Iteration:      3,   Func. Count:     24,   Neg. LLF: 19345.744979598527\n",
      "Iteration:      4,   Func. Count:     31,   Neg. LLF: 11376.538591595143\n",
      "Iteration:      5,   Func. Count:     37,   Neg. LLF: 14876.863643581377\n",
      "Iteration:      6,   Func. Count:     43,   Neg. LLF: 11341.148683990796\n",
      "Iteration:      7,   Func. Count:     49,   Neg. LLF: 11342.28342648423\n",
      "Iteration:      8,   Func. Count:     55,   Neg. LLF: 11478.55536986806\n",
      "Iteration:      9,   Func. Count:     61,   Neg. LLF: 11309.725364135524\n",
      "Iteration:     10,   Func. Count:     66,   Neg. LLF: 11309.610387879893\n",
      "Iteration:     11,   Func. Count:     71,   Neg. LLF: 11309.60935944373\n",
      "Iteration:     12,   Func. Count:     76,   Neg. LLF: 11309.609336716214\n",
      "Iteration:     13,   Func. Count:     80,   Neg. LLF: 11309.609336723941\n",
      "Optimization terminated successfully    (Exit mode 0)\n",
      "            Current function value: 11309.609336716214\n",
      "            Iterations: 13\n",
      "            Function evaluations: 80\n",
      "            Gradient evaluations: 13\n",
      "                     Constant Mean - GARCH Model Results                      \n",
      "==============================================================================\n",
      "Dep. Variable:                  Close   R-squared:                       0.000\n",
      "Mean Model:             Constant Mean   Adj. R-squared:                  0.000\n",
      "Vol Model:                      GARCH   Log-Likelihood:               -11309.6\n",
      "Distribution:                  Normal   AIC:                           22627.2\n",
      "Method:            Maximum Likelihood   BIC:                           22656.7\n",
      "                                        No. Observations:                11710\n",
      "Date:                Wed, Dec 13 2023   Df Residuals:                    11709\n",
      "Time:                        13:29:01   Df Model:                            1\n",
      "                                  Mean Model                                 \n",
      "=============================================================================\n",
      "                 coef    std err          t      P>|t|       95.0% Conf. Int.\n",
      "-----------------------------------------------------------------------------\n",
      "mu         4.1801e-03  5.707e-03      0.733      0.464 [-7.005e-03,1.536e-02]\n",
      "                              Volatility Model                              \n",
      "============================================================================\n",
      "                 coef    std err          t      P>|t|      95.0% Conf. Int.\n",
      "----------------------------------------------------------------------------\n",
      "omega      5.7107e-03  2.723e-03      2.097  3.596e-02 [3.742e-04,1.105e-02]\n",
      "alpha[1]       0.0584  1.657e-02      3.524  4.248e-04 [2.592e-02,9.089e-02]\n",
      "beta[1]        0.9302  2.086e-02     44.601      0.000     [  0.889,  0.971]\n",
      "============================================================================\n",
      "\n",
      "Covariance estimator: robust\n",
      "Forecasted volatility for the next 5 periods: h.1    0.361655\n",
      "h.2    0.363235\n",
      "h.3    0.364796\n",
      "h.4    0.366340\n",
      "h.5    0.367866\n",
      "Name: 11710, dtype: float64\n"
     ]
    }
   ],
   "source": [
    "\n",
    "def fit_garch_model(returns):\n",
    "    try:\n",
    "        model = arch_model(returns, vol='Garch', p=1, q=1)\n",
    "        result = model.fit()\n",
    "        print(result.summary())\n",
    "        return result\n",
    "    except Exception as e:\n",
    "        print(f\"Error in fitting the model: {e}\")\n",
    "        return None\n",
    "\n",
    "def forecast_volatility(model, horizon):\n",
    "    try:\n",
    "        forecast = model.forecast(horizon=horizon)\n",
    "        return forecast.variance.iloc[-1]\n",
    "    except Exception as e:\n",
    "        print(f\"Error in forecasting: {e}\")\n",
    "        return None\n",
    "\n",
    "# Assuming df['Close'] contains the Bitcoin close prices\n",
    "returns = df['Close'].pct_change().dropna() * 10000\n",
    "\n",
    "# Fit GARCH(1,1) model\n",
    "garch_model = fit_garch_model(returns)\n",
    "if garch_model:\n",
    "    # Forecast future volatility (adjust horizon as needed)\n",
    "    forecast_horizon = 5 # Adjust based on your data frequency\n",
    "    forecasted_volatility = forecast_volatility(garch_model, forecast_horizon)\n",
    "    if forecasted_volatility is not None:\n",
    "        print(f\"Forecasted volatility for the next {forecast_horizon} periods: {forecasted_volatility}\")"
   ]
  }
 ],
 "metadata": {
  "kernelspec": {
   "display_name": "pm",
   "language": "python",
   "name": "python3"
  },
  "language_info": {
   "codemirror_mode": {
    "name": "ipython",
    "version": 3
   },
   "file_extension": ".py",
   "mimetype": "text/x-python",
   "name": "python",
   "nbconvert_exporter": "python",
   "pygments_lexer": "ipython3",
   "version": "3.10.12"
  }
 },
 "nbformat": 4,
 "nbformat_minor": 2
}
